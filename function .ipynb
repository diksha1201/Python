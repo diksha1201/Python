{
 "cells": [
  {
   "cell_type": "code",
   "execution_count": 7,
   "metadata": {},
   "outputs": [
    {
     "name": "stdout",
     "output_type": "stream",
     "text": [
      "<class 'list'>\n",
      "1\n",
      "2\n",
      "3\n",
      "3\n"
     ]
    }
   ],
   "source": [
    "#List\n",
    "def demo():\n",
    "    return [1,2,3,3]\n",
    "\n",
    "z = demo()\n",
    "print(type(z))\n",
    "\n",
    "for i in z:\n",
    "    print(i)"
   ]
  },
  {
   "cell_type": "code",
   "execution_count": 8,
   "metadata": {},
   "outputs": [
    {
     "name": "stdout",
     "output_type": "stream",
     "text": [
      "<class 'tuple'>\n",
      "1\n",
      "2\n",
      "3\n",
      "3\n"
     ]
    }
   ],
   "source": [
    "#tuple\n",
    "def demo():\n",
    "    return (1,2,3,3)\n",
    "\n",
    "z = demo()\n",
    "print(type(z))\n",
    "\n",
    "for i in z:\n",
    "    print(i)"
   ]
  },
  {
   "cell_type": "code",
   "execution_count": 9,
   "metadata": {},
   "outputs": [
    {
     "name": "stdout",
     "output_type": "stream",
     "text": [
      "Hello welcome to demo function\n",
      "sonu\n",
      "1\n"
     ]
    }
   ],
   "source": [
    "dictionary\n",
    "def demo():\n",
    "    print(\"Hello welcome to demo function\")\n",
    "    dict1 = dict()\n",
    "    dict1[\"name\"]=\"sonu\"\n",
    "    dict1[\"id1\"]=1\n",
    "    return dict1\n",
    "z = demo()\n",
    "\n",
    "for i in z:\n",
    "    print(z[i])"
   ]
  },
  {
   "cell_type": "code",
   "execution_count": 10,
   "metadata": {},
   "outputs": [
    {
     "name": "stdout",
     "output_type": "stream",
     "text": [
      "\r",
      " before function execution : x global value\n",
      " \n",
      "\r",
      " after fuc: x global value\n"
     ]
    }
   ],
   "source": [
    "#local and global\n",
    "x = \"x global value\"\n",
    "\n",
    "def demo():\n",
    "    x=\" \"\n",
    "    print(x)\n",
    "    x =\"x local variable\"\n",
    "    \n",
    "print(\"\\r before function execution :\",x)\n",
    "demo()\n",
    "print(\"\\r after fuc:\",x)"
   ]
  },
  {
   "cell_type": "code",
   "execution_count": 11,
   "metadata": {},
   "outputs": [
    {
     "name": "stdout",
     "output_type": "stream",
     "text": [
      "5\n"
     ]
    }
   ],
   "source": [
    "#No argument,No Return type.\n",
    "def add():\n",
    "    a = 3\n",
    "    b = 2\n",
    "    print(a+b)\n",
    "add()\n"
   ]
  },
  {
   "cell_type": "code",
   "execution_count": 12,
   "metadata": {},
   "outputs": [
    {
     "name": "stdout",
     "output_type": "stream",
     "text": [
      "5\n"
     ]
    }
   ],
   "source": [
    "#With arument,no return type\n",
    "def add(a,b):\n",
    "    print(a+b)\n",
    "add(3,2)"
   ]
  },
  {
   "cell_type": "code",
   "execution_count": 13,
   "metadata": {},
   "outputs": [
    {
     "name": "stdout",
     "output_type": "stream",
     "text": [
      "5\n"
     ]
    }
   ],
   "source": [
    "#With arument,with return type/value\n",
    "def add(a,b):\n",
    "    print(a+b)\n",
    "    return a+b\n",
    "x = add(3,2)"
   ]
  },
  {
   "cell_type": "code",
   "execution_count": 15,
   "metadata": {},
   "outputs": [],
   "source": [
    "#No Argument, with return value/type\n",
    "def add():\n",
    "    a = 5\n",
    "    b = 2\n",
    "    return(a+b) \n",
    "x = add()"
   ]
  },
  {
   "cell_type": "code",
   "execution_count": 21,
   "metadata": {},
   "outputs": [
    {
     "name": "stdout",
     "output_type": "stream",
     "text": [
      "hello\n",
      "hello\n",
      "hello\n",
      "hello\n",
      "hello\n",
      "hello\n",
      "hello\n",
      "hello\n",
      "hello\n"
     ]
    }
   ],
   "source": [
    "# required arugment\n",
    "def demo(n):\n",
    "    i=1\n",
    "    while i < n:\n",
    "        print(\"hello\")\n",
    "        i = i+1\n",
    "z = demo(10)"
   ]
  },
  {
   "cell_type": "code",
   "execution_count": 22,
   "metadata": {},
   "outputs": [
    {
     "name": "stdout",
     "output_type": "stream",
     "text": [
      "hello\n",
      "hello\n",
      "hello\n",
      "hello\n"
     ]
    }
   ],
   "source": [
    "#DEFAULT arugment eg1\n",
    "def demo(n=5):\n",
    "    i=1\n",
    "    while i < n:\n",
    "        print(\"hello\")\n",
    "        i = i+1\n",
    "z = demo()"
   ]
  },
  {
   "cell_type": "code",
   "execution_count": 24,
   "metadata": {},
   "outputs": [
    {
     "name": "stdout",
     "output_type": "stream",
     "text": [
      "HII\n",
      "HII\n",
      "HII\n",
      "HII\n",
      "HII\n",
      "HII\n",
      "HII\n",
      "HII\n",
      "HII\n"
     ]
    }
   ],
   "source": [
    "#DEFAULT arugment eg2\n",
    "def demo(n=5):\n",
    "    i=1\n",
    "    while i < n:\n",
    "        print(\"HII\")\n",
    "        i = i+1\n",
    "z = demo(10)"
   ]
  },
  {
   "cell_type": "code",
   "execution_count": 25,
   "metadata": {},
   "outputs": [
    {
     "name": "stdout",
     "output_type": "stream",
     "text": [
      "15625\n"
     ]
    },
    {
     "data": {
      "text/plain": [
       "15625"
      ]
     },
     "execution_count": 25,
     "metadata": {},
     "output_type": "execute_result"
    }
   ],
   "source": [
    "#keyword argument \n",
    "def demo(a,b):\n",
    "    print(a**b)\n",
    "    return(a**b)\n",
    "demo(5,6)"
   ]
  },
  {
   "cell_type": "code",
   "execution_count": 26,
   "metadata": {},
   "outputs": [
    {
     "name": "stdout",
     "output_type": "stream",
     "text": [
      "15625\n"
     ]
    },
    {
     "data": {
      "text/plain": [
       "15625"
      ]
     },
     "execution_count": 26,
     "metadata": {},
     "output_type": "execute_result"
    }
   ],
   "source": [
    "#keyword argument \n",
    "def demo(a,b):\n",
    "    print(a**b)\n",
    "    return(a**b)\n",
    "demo(a=5,b=6)"
   ]
  },
  {
   "cell_type": "code",
   "execution_count": null,
   "metadata": {},
   "outputs": [],
   "source": [
    "#Multiple Arument "
   ]
  }
 ],
 "metadata": {
  "kernelspec": {
   "display_name": "Python 3 (ipykernel)",
   "language": "python",
   "name": "python3"
  },
  "language_info": {
   "codemirror_mode": {
    "name": "ipython",
    "version": 3
   },
   "file_extension": ".py",
   "mimetype": "text/x-python",
   "name": "python",
   "nbconvert_exporter": "python",
   "pygments_lexer": "ipython3",
   "version": "3.11.4"
  }
 },
 "nbformat": 4,
 "nbformat_minor": 4
}
