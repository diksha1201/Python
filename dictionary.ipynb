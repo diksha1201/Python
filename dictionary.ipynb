{
 "cells": [
  {
   "cell_type": "code",
   "execution_count": 1,
   "metadata": {},
   "outputs": [
    {
     "name": "stdout",
     "output_type": "stream",
     "text": [
      "{'child1': {'Name': 'Diksha', 'Address': 'Vashi', 'Id': 12}, 'child2': {'Name': 'Sona', 'Address': 'Sanpada', 'Id': 13}}\n"
     ]
    }
   ],
   "source": [
    "#merge two dict\n",
    "child1={\"Name\":\"Diksha\",\"Address\":\"Vashi\",\"Id\":12}\n",
    "child2={\"Name\":\"Sona\",\"Address\":\"Sanpada\",\"Id\":13}\n",
    "dict={\"child1\":child1,\"child2\":child2}\n",
    "print(dict)"
   ]
  },
  {
   "cell_type": "code",
   "execution_count": 2,
   "metadata": {},
   "outputs": [
    {
     "name": "stdout",
     "output_type": "stream",
     "text": [
      "{'Name': 'Sona', 'Address': 'Vashi', 'Id': 12, 'email': 'diksha@123', 'mobile': 94611478522}\n"
     ]
    }
   ],
   "source": [
    "#display dict\n",
    "dict1={'Name':'Sona','Address': 'Vashi', 'Id': 12,'email':'diksha@123','mobile':94611478522}\n",
    "print(dict1)"
   ]
  },
  {
   "cell_type": "code",
   "execution_count": 4,
   "metadata": {},
   "outputs": [
    {
     "name": "stdout",
     "output_type": "stream",
     "text": [
      "{'Name': 'Sona', 'Address': 'Vashi', 'Id': 12, 'email': 'diksha@123', 'mobile': 94611478522, 'city': 'Mumbai'}\n"
     ]
    }
   ],
   "source": [
    "#add \n",
    "dict1={'Name':'Sona','Address': 'Vashi', 'Id': 12,'email':'diksha@123','mobile':94611478522}\n",
    "dict1['city']='Mumbai'\n",
    "print(dict1)"
   ]
  },
  {
   "cell_type": "code",
   "execution_count": 6,
   "metadata": {},
   "outputs": [
    {
     "name": "stdout",
     "output_type": "stream",
     "text": [
      "dict_keys(['Name', 'Address', 'Id', 'email', 'mobile'])\n"
     ]
    }
   ],
   "source": [
    "#access only keys\n",
    "dict1={'Name':'Sona','Address': 'Vashi', 'Id': 12,'email':'diksha@123','mobile':94611478522}\n",
    "x=dict1.keys()\n",
    "print(x)"
   ]
  },
  {
   "cell_type": "code",
   "execution_count": 7,
   "metadata": {},
   "outputs": [
    {
     "name": "stdout",
     "output_type": "stream",
     "text": [
      "dict_values(['Sona', 'Vashi', 12, 'diksha@123', 94611478522])\n"
     ]
    }
   ],
   "source": [
    "#values\n",
    "dict1={'Name':'Sona','Address': 'Vashi', 'Id': 12,'email':'diksha@123','mobile':94611478522}\n",
    "x=dict1.keys()\n",
    "print(x)x=dict1.values()\n",
    "print(x)"
   ]
  },
  {
   "cell_type": "code",
   "execution_count": 8,
   "metadata": {},
   "outputs": [
    {
     "name": "stdout",
     "output_type": "stream",
     "text": [
      "Name\n",
      "Address\n",
      "Id\n",
      "email\n",
      "mobile\n"
     ]
    }
   ],
   "source": [
    "dict1={'Name':'Sona','Address': 'Vashi', 'Id': 12,'email':'diksha@123','mobile':94611478522}\n",
    "for x in dict1.keys():\n",
    "    print(x)"
   ]
  },
  {
   "cell_type": "code",
   "execution_count": 9,
   "metadata": {},
   "outputs": [
    {
     "name": "stdout",
     "output_type": "stream",
     "text": [
      "Name Sona\n",
      "Address Vashi\n",
      "Id 12\n",
      "email diksha@123\n",
      "mobile 94611478522\n"
     ]
    }
   ],
   "source": [
    "dict1={'Name':'Sona','Address': 'Vashi', 'Id': 12,'email':'diksha@123','mobile':94611478522}\n",
    "for x,y in dict1.items():\n",
    "    print(x,y)"
   ]
  },
  {
   "cell_type": "code",
   "execution_count": 10,
   "metadata": {},
   "outputs": [
    {
     "data": {
      "text/plain": [
       "5"
      ]
     },
     "execution_count": 10,
     "metadata": {},
     "output_type": "execute_result"
    }
   ],
   "source": [
    "dict1={'Name':'Sona','Address': 'Vashi', 'Id': 12,'email':'diksha@123','mobile':94611478522}\n",
    "len(dict1)"
   ]
  },
  {
   "cell_type": "code",
   "execution_count": 11,
   "metadata": {},
   "outputs": [
    {
     "ename": "ValueError",
     "evalue": "dictionary update sequence element #0 has length 1; 2 is required",
     "output_type": "error",
     "traceback": [
      "\u001b[1;31m---------------------------------------------------------------------------\u001b[0m",
      "\u001b[1;31mValueError\u001b[0m                                Traceback (most recent call last)",
      "\u001b[1;32m<ipython-input-11-ae29065efa6b>\u001b[0m in \u001b[0;36m<module>\u001b[1;34m\u001b[0m\n\u001b[0;32m      1\u001b[0m \u001b[0mdict1\u001b[0m\u001b[1;33m=\u001b[0m\u001b[1;33m{\u001b[0m\u001b[1;34m'Name'\u001b[0m\u001b[1;33m:\u001b[0m\u001b[1;34m'Sona'\u001b[0m\u001b[1;33m,\u001b[0m\u001b[1;34m'Address'\u001b[0m\u001b[1;33m:\u001b[0m \u001b[1;34m'Vashi'\u001b[0m\u001b[1;33m,\u001b[0m \u001b[1;34m'Id'\u001b[0m\u001b[1;33m:\u001b[0m \u001b[1;36m12\u001b[0m\u001b[1;33m,\u001b[0m\u001b[1;34m'email'\u001b[0m\u001b[1;33m:\u001b[0m\u001b[1;34m'diksha@123'\u001b[0m\u001b[1;33m,\u001b[0m\u001b[1;34m'mobile'\u001b[0m\u001b[1;33m:\u001b[0m\u001b[1;36m94611478522\u001b[0m\u001b[1;33m}\u001b[0m\u001b[1;33m\u001b[0m\u001b[1;33m\u001b[0m\u001b[0m\n\u001b[1;32m----> 2\u001b[1;33m \u001b[0mdict1\u001b[0m\u001b[1;33m.\u001b[0m\u001b[0mupdate\u001b[0m\u001b[1;33m(\u001b[0m\u001b[1;34m'Name'\u001b[0m\u001b[1;33m)\u001b[0m\u001b[1;33m\u001b[0m\u001b[1;33m\u001b[0m\u001b[0m\n\u001b[0m\u001b[0;32m      3\u001b[0m \u001b[0mprint\u001b[0m\u001b[1;33m(\u001b[0m\u001b[0mdict1\u001b[0m\u001b[1;33m)\u001b[0m\u001b[1;33m\u001b[0m\u001b[1;33m\u001b[0m\u001b[0m\n",
      "\u001b[1;31mValueError\u001b[0m: dictionary update sequence element #0 has length 1; 2 is required"
     ]
    }
   ],
   "source": [
    "dict1={'Name':'Sona','Address': 'Vashi', 'Id': 12,'email':'diksha@123','mobile':94611478522}\n",
    "dict1.update('Name')\n",
    "print(dict1)"
   ]
  },
  {
   "cell_type": "code",
   "execution_count": 12,
   "metadata": {},
   "outputs": [
    {
     "name": "stdout",
     "output_type": "stream",
     "text": [
      "{'Name': 'Sona', 'Address': 'Vashi', 'Id': 12, 'email': 'diksha@123', 'mobile': 94611478522}\n"
     ]
    }
   ],
   "source": [
    "dict1={\"Name\":\"Diksha\",\"Address\":\"Vashi\",\"Id\":12}\n",
    "dict2={'Name':'Sona','Address': 'Vashi', 'Id': 12,'email':'diksha@123','mobile':94611478522}\n",
    "dict1.update(dict2)\n",
    "print(dict1)\n"
   ]
  },
  {
   "cell_type": "code",
   "execution_count": 14,
   "metadata": {},
   "outputs": [
    {
     "name": "stdout",
     "output_type": "stream",
     "text": [
      "{'Name': 'Sona', 'Address': 'Vashi', 'Id': 12, 'email': 'diksha@123', 'mobile': 94611478522}\n"
     ]
    }
   ],
   "source": [
    "dict2={'Name':'Sona','Address': 'Vashi', 'Id': 12,'email':'diksha@123','mobile':94611478522}\n",
    "dict2.get('Name')\n",
    "print(dict2)"
   ]
  },
  {
   "cell_type": "code",
   "execution_count": 15,
   "metadata": {},
   "outputs": [
    {
     "name": "stdout",
     "output_type": "stream",
     "text": [
      "Diksha\n",
      "tirtha\n",
      "jaya\n"
     ]
    }
   ],
   "source": [
    "dict1={'name':'Diksha'}\n",
    "dict2={'name':'tirtha'}\n",
    "dict3={'name':'jaya'}\n",
    "dictnested = {'child1':dict1,'chil2':dict2,'child3':dict3}\n",
    "for x,y in dictnested.items():\n",
    "    for z in y.values():\n",
    "        print(z)"
   ]
  },
  {
   "cell_type": "code",
   "execution_count": 16,
   "metadata": {},
   "outputs": [
    {
     "name": "stdout",
     "output_type": "stream",
     "text": [
      "email\n",
      "id\n",
      "mob\n",
      "name\n"
     ]
    }
   ],
   "source": [
    "dicttry={'name':'prachi','id':1,'mob':456789,'email':'jaya@23.in'}\n",
    "for x in sorted(dicttry):\n",
    "    print(x)"
   ]
  },
  {
   "cell_type": "code",
   "execution_count": null,
   "metadata": {},
   "outputs": [],
   "source": []
  }
 ],
 "metadata": {
  "kernelspec": {
   "display_name": "Python 3 (ipykernel)",
   "language": "python",
   "name": "python3"
  },
  "language_info": {
   "codemirror_mode": {
    "name": "ipython",
    "version": 3
   },
   "file_extension": ".py",
   "mimetype": "text/x-python",
   "name": "python",
   "nbconvert_exporter": "python",
   "pygments_lexer": "ipython3",
   "version": "3.11.4"
  }
 },
 "nbformat": 4,
 "nbformat_minor": 4
}
