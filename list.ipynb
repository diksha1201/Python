{
 "cells": [
  {
   "cell_type": "code",
   "execution_count": 5,
   "metadata": {},
   "outputs": [
    {
     "name": "stdout",
     "output_type": "stream",
     "text": [
      "1\n",
      "diksha\n",
      "98.4\n",
      "Navi Mumbai\n"
     ]
    }
   ],
   "source": [
    "a=[1,\"diksha\",98.40,\"Navi Mumbai\"]\n",
    "for i in a:\n",
    "    print(i)\n"
   ]
  },
  {
   "cell_type": "code",
   "execution_count": 6,
   "metadata": {},
   "outputs": [
    {
     "name": "stdout",
     "output_type": "stream",
     "text": [
      "1\n",
      "diksha\n",
      "98.4\n"
     ]
    }
   ],
   "source": [
    "a=[1,\"diksha\",98.40,\"Navi Mumbai\"]\n",
    "for i in range(0,3,1):\n",
    "    print(a[i])"
   ]
  },
  {
   "cell_type": "code",
   "execution_count": 8,
   "metadata": {},
   "outputs": [
    {
     "name": "stdout",
     "output_type": "stream",
     "text": [
      "[1, 'diksha', 98.4, 'Navi Mumbai', 'Maharashtra']\n"
     ]
    }
   ],
   "source": [
    "a=[1,\"diksha\",98.40,\"Navi Mumbai\"]\n",
    "a.append(\"Maharashtra\")\n",
    "print(a)"
   ]
  },
  {
   "cell_type": "code",
   "execution_count": 10,
   "metadata": {},
   "outputs": [
    {
     "name": "stdout",
     "output_type": "stream",
     "text": [
      "[1, 'diksha', 98.4, 'diksha@123', 'Navi Mumbai', 'Maharashtra']\n"
     ]
    }
   ],
   "source": [
    "a= [1, 'diksha', 98.4, 'Navi Mumbai', 'Maharashtra']\n",
    "a.insert(3,\"diksha@123\")\n",
    "print(a)"
   ]
  },
  {
   "cell_type": "code",
   "execution_count": 12,
   "metadata": {},
   "outputs": [
    {
     "name": "stdout",
     "output_type": "stream",
     "text": [
      "[1, 'diksha', 98.4, 'diksha@123', 'Navi Mumbai']\n"
     ]
    }
   ],
   "source": [
    "a=[1, 'diksha', 98.4, 'diksha@123', 'Navi Mumbai', 'Maharashtra']\n",
    "a.pop(5)\n",
    "print(a)"
   ]
  },
  {
   "cell_type": "code",
   "execution_count": 15,
   "metadata": {},
   "outputs": [
    {
     "name": "stdout",
     "output_type": "stream",
     "text": [
      "[]\n"
     ]
    }
   ],
   "source": [
    "a=[1, 'diksha', 98.4, 'diksha@123', 'Navi Mumbai', 'Maharashtra']\n",
    "a.clear()\n",
    "print(a)"
   ]
  },
  {
   "cell_type": "code",
   "execution_count": 17,
   "metadata": {},
   "outputs": [
    {
     "name": "stdout",
     "output_type": "stream",
     "text": [
      "('Itvedant', 'ItTranee')\n"
     ]
    }
   ],
   "source": [
    "a=[1, 'diksha', 98.4, 'diksha@123', 'Navi Mumbai', 'Maharashtra', 21]\n",
    "info=(\"Itvedant\",\"ItTranee\")\n",
    "print(info)"
   ]
  },
  {
   "cell_type": "code",
   "execution_count": 18,
   "metadata": {},
   "outputs": [
    {
     "data": {
      "text/plain": [
       "7"
      ]
     },
     "execution_count": 18,
     "metadata": {},
     "output_type": "execute_result"
    }
   ],
   "source": [
    "a=[1, 'diksha', 98.4, 'diksha@123', 'Navi Mumbai', 'Maharashtra', 21]\n",
    "len(a)"
   ]
  },
  {
   "cell_type": "code",
   "execution_count": 19,
   "metadata": {},
   "outputs": [
    {
     "data": {
      "text/plain": [
       "[21, 'Maharashtra', 'Navi Mumbai', 'diksha@123', 98.4, 'diksha', 1]"
      ]
     },
     "execution_count": 19,
     "metadata": {},
     "output_type": "execute_result"
    }
   ],
   "source": [
    "a=[1, 'diksha', 98.4, 'diksha@123', 'Navi Mumbai', 'Maharashtra', 21]\n",
    "a[::-1]"
   ]
  },
  {
   "cell_type": "code",
   "execution_count": 22,
   "metadata": {},
   "outputs": [
    {
     "name": "stdout",
     "output_type": "stream",
     "text": [
      "[1, 'diksha', 98.4, 'diksha@123', 'Navi Mumbai', 'Maharashtra', 21]\n"
     ]
    }
   ],
   "source": [
    "a=[1, 'diksha', 98.4, 'diksha@123', 'Navi Mumbai', 'Maharashtra', 21]\n",
    "a[2:6]\n",
    "print(a)"
   ]
  },
  {
   "cell_type": "code",
   "execution_count": 27,
   "metadata": {},
   "outputs": [
    {
     "name": "stdout",
     "output_type": "stream",
     "text": [
      "['Itvedant', 'ItTranee']\n",
      "[1, 'diksha', 98.4, 'diksha@123', 'Navi Mumbai', 'Maharashtra', 21, 'Itvedant', 'ItTranee', 'Itvedant', 'ItTranee']\n"
     ]
    }
   ],
   "source": [
    "a=[1, 'diksha', 98.4, 'diksha@123', 'Navi Mumbai', 'Maharashtra', 21]\n",
    "info=[\"Itvedant\",\"ItTranee\"]\n",
    "print(info)\n",
    "a.extend(info)\n",
    "b=a + info\n",
    "print(b)"
   ]
  },
  {
   "cell_type": "code",
   "execution_count": null,
   "metadata": {},
   "outputs": [],
   "source": [
    "words = [\"apple\", \"banana\", \"cherry\", \"grape\", \"orange\"]\n",
    "startgame = input(\"Do you Want to START? 1.YES or 2.NO: \")\n",
    "print(startgame)\n",
    "chance = 0\n",
    "score = 0\n",
    "if startgame == \"yes\":\n",
    "    for i in words:\n",
    "        o1char = i[1]\n",
    "        o2char = i[3]\n",
    "        i = i[:1]+\"_\"+i[2:]\n",
    "        i = i[:3]+\"_\"+i[4:]\n",
    "        print(\"\\r\",i)\n",
    "        chance = 0\n",
    "        while chance<2:\n",
    "            char1 = input(\"Please guess the fiest alpahabet: \")\n",
    "            char2 = input(\"Please guess the second aphabet: \")\n",
    "            if(char1 == o1char) and (char2 == o2char):\n",
    "                score = score+1\n",
    "                print(f\"\\r your score id {score}\")\n",
    "                break\n",
    "            else:\n",
    "                chance= chance+1\n",
    "                continue\n",
    "elif startgame == \"NO\":\n",
    "    print(\"EXIT\")\n"
   ]
  },
  {
   "cell_type": "code",
   "execution_count": 6,
   "metadata": {},
   "outputs": [
    {
     "ename": "NameError",
     "evalue": "name 'word' is not defined",
     "output_type": "error",
     "traceback": [
      "\u001b[1;31m---------------------------------------------------------------------------\u001b[0m",
      "\u001b[1;31mNameError\u001b[0m                                 Traceback (most recent call last)",
      "\u001b[1;32m<ipython-input-6-76f6797b89af>\u001b[0m in \u001b[0;36m<module>\u001b[1;34m\u001b[0m\n\u001b[0;32m      1\u001b[0m \u001b[0mwords\u001b[0m \u001b[1;33m=\u001b[0m \u001b[1;33m[\u001b[0m\u001b[1;34m\"apple\"\u001b[0m\u001b[1;33m,\u001b[0m \u001b[1;34m\"banana\"\u001b[0m\u001b[1;33m,\u001b[0m \u001b[1;34m\"cherry\"\u001b[0m\u001b[1;33m,\u001b[0m \u001b[1;34m\"grape\"\u001b[0m\u001b[1;33m,\u001b[0m \u001b[1;34m\"orange\"\u001b[0m\u001b[1;33m]\u001b[0m\u001b[1;33m\u001b[0m\u001b[1;33m\u001b[0m\u001b[0m\n\u001b[1;32m----> 2\u001b[1;33m \u001b[0mwordcopy\u001b[0m \u001b[1;33m=\u001b[0m \u001b[0mword\u001b[0m\u001b[1;33m.\u001b[0m\u001b[0mcopy\u001b[0m\u001b[1;33m(\u001b[0m\u001b[1;33m)\u001b[0m\u001b[1;33m\u001b[0m\u001b[1;33m\u001b[0m\u001b[0m\n\u001b[0m\u001b[0;32m      3\u001b[0m \u001b[0mstartgame\u001b[0m \u001b[1;33m=\u001b[0m \u001b[0minput\u001b[0m\u001b[1;33m(\u001b[0m\u001b[1;34m\"Do you want to start game\"\u001b[0m\u001b[1;33m)\u001b[0m\u001b[1;33m\u001b[0m\u001b[1;33m\u001b[0m\u001b[0m\n\u001b[0;32m      4\u001b[0m \u001b[1;32mif\u001b[0m \u001b[0mstartgame\u001b[0m \u001b[1;33m==\u001b[0m \u001b[1;34m\"yes\"\u001b[0m\u001b[1;33m:\u001b[0m\u001b[1;33m\u001b[0m\u001b[1;33m\u001b[0m\u001b[0m\n\u001b[0;32m      5\u001b[0m     \u001b[1;32mfor\u001b[0m \u001b[0mi\u001b[0m \u001b[1;32min\u001b[0m \u001b[0mwords\u001b[0m\u001b[1;33m:\u001b[0m\u001b[1;33m\u001b[0m\u001b[1;33m\u001b[0m\u001b[0m\n",
      "\u001b[1;31mNameError\u001b[0m: name 'word' is not defined"
     ]
    }
   ],
   "source": [
    "words = [\"apple\", \"banana\", \"cherry\", \"grape\", \"orange\"]\n",
    "wordcopy = word.copy()\n",
    "startgame = input(\"Do you want to start game\")\n",
    "if startgame == \"yes\":\n",
    "    for i in words:\n",
    "        for i in range(0, len(i)):\n",
    "            print(i)\n",
    "            if x == 1:\n",
    "                i.replace(i[x], \"_\")\n",
    "            else:\n",
    "                pass\n",
    "            print(i,end=\"\")\n",
    "else:\n",
    "    print(\"exit\")\n",
    "       \n",
    "    "
   ]
  },
  {
   "cell_type": "code",
   "execution_count": null,
   "metadata": {},
   "outputs": [],
   "source": [
    "words = [\"apple\", \"banana\", \"cherry\", \"grape\", \"orange\"]\n",
    "chance = 0\n",
    "score = 0\n",
    "startgame = input(\"Do you want to start game:1.yes 2.no\")\n",
    "if startgame == \"yes\":\n",
    "    for i in words:\n",
    "        o1char = i[1]\n",
    "        o2char = i[3]\n",
    "        i = i[:1]+\"_\"+i[2:]\n",
    "        i = i[:3]+\"_\"+i[4:]\n",
    "        print(\"\\r\",i)\n",
    "        chance = 0\n",
    "        while chance<2:\n",
    "            char1 = input(\"Please guess the fiest alpahabet: \")\n",
    "            char2 = input(\"Please guess the second aphabet: \")\n",
    "            if(char1 == o1char) and (char2 == o2char):\n",
    "                score = score+1\n",
    "                print(f\"\\r your score id {score}\")\n",
    "                break\n",
    "            else:\n",
    "                chance= chance+1\n",
    "                continue"
   ]
  },
  {
   "cell_type": "code",
   "execution_count": 1,
   "metadata": {},
   "outputs": [
    {
     "name": "stdout",
     "output_type": "stream",
     "text": [
      "equal by value\n"
     ]
    }
   ],
   "source": [
    "series1 = ['a','b','c','d']\n",
    "series2 = list('abcd')\n",
    "id(series1)\n",
    "id(series2)\n",
    "if series1 == series2:\n",
    "    print(\"equal by value\")\n",
    "    \n",
    "if series1 is series2:\n",
    "    print(\"equal by memory\")"
   ]
  },
  {
   "cell_type": "code",
   "execution_count": 8,
   "metadata": {},
   "outputs": [
    {
     "ename": "TypeError",
     "evalue": "list indices must be integers or slices, not tuple",
     "output_type": "error",
     "traceback": [
      "\u001b[1;31m---------------------------------------------------------------------------\u001b[0m",
      "\u001b[1;31mTypeError\u001b[0m                                 Traceback (most recent call last)",
      "\u001b[1;32m<ipython-input-8-9ee78e4426fd>\u001b[0m in \u001b[0;36m<module>\u001b[1;34m\u001b[0m\n\u001b[1;32m----> 1\u001b[1;33m \u001b[0malpha\u001b[0m \u001b[1;33m=\u001b[0m \u001b[1;33m[\u001b[0m\u001b[1;33m[\u001b[0m\u001b[1;34m'a'\u001b[0m\u001b[1;33m,\u001b[0m\u001b[1;34m't'\u001b[0m\u001b[1;33m,\u001b[0m\u001b[1;34m'h'\u001b[0m\u001b[1;33m,\u001b[0m\u001b[1;34m'g'\u001b[0m\u001b[1;33m,\u001b[0m\u001b[1;34m'e'\u001b[0m\u001b[1;33m,\u001b[0m\u001b[1;34m'f'\u001b[0m\u001b[1;33m]\u001b[0m\u001b[1;33m[\u001b[0m\u001b[1;34m's'\u001b[0m\u001b[1;33m,\u001b[0m\u001b[1;34m'e'\u001b[0m\u001b[1;33m,\u001b[0m\u001b[1;34m'c'\u001b[0m\u001b[1;33m,\u001b[0m\u001b[1;34m'a'\u001b[0m\u001b[1;33m,\u001b[0m\u001b[1;34m't'\u001b[0m\u001b[1;33m,\u001b[0m\u001b[1;34m'h'\u001b[0m\u001b[1;33m]\u001b[0m\u001b[1;33m]\u001b[0m\u001b[1;33m\u001b[0m\u001b[1;33m\u001b[0m\u001b[0m\n\u001b[0m\u001b[0;32m      2\u001b[0m \u001b[0mword\u001b[0m \u001b[1;33m=\u001b[0m \u001b[1;33m[\u001b[0m\u001b[1;33m[\u001b[0m\u001b[1;34m'hat'\u001b[0m\u001b[1;33m,\u001b[0m\u001b[1;34m'get'\u001b[0m\u001b[1;33m,\u001b[0m\u001b[1;34m'fat'\u001b[0m\u001b[1;33m,\u001b[0m\u001b[1;34m'gate'\u001b[0m\u001b[1;33m,\u001b[0m\u001b[1;34m'hate'\u001b[0m\u001b[1;33m]\u001b[0m\u001b[1;33m[\u001b[0m\u001b[1;34m'seat'\u001b[0m\u001b[1;33m,\u001b[0m\u001b[1;34m'hat'\u001b[0m\u001b[1;33m,\u001b[0m\u001b[1;34m'set'\u001b[0m\u001b[1;33m,\u001b[0m\u001b[1;34m'cat'\u001b[0m\u001b[1;33m,\u001b[0m\u001b[1;34m'the'\u001b[0m\u001b[1;33m,\u001b[0m\u001b[1;34m'cheat'\u001b[0m\u001b[1;33m,\u001b[0m\u001b[1;34m'eat'\u001b[0m\u001b[1;33m]\u001b[0m\u001b[1;33m]\u001b[0m\u001b[1;33m\u001b[0m\u001b[1;33m\u001b[0m\u001b[0m\n\u001b[0;32m      3\u001b[0m \u001b[0mchance\u001b[0m \u001b[1;33m=\u001b[0m \u001b[1;36m3\u001b[0m\u001b[1;33m\u001b[0m\u001b[1;33m\u001b[0m\u001b[0m\n\u001b[0;32m      4\u001b[0m \u001b[0mlist\u001b[0m \u001b[1;33m=\u001b[0m \u001b[1;36m0\u001b[0m\u001b[1;33m\u001b[0m\u001b[1;33m\u001b[0m\u001b[0m\n\u001b[0;32m      5\u001b[0m \u001b[0mscore\u001b[0m \u001b[1;33m=\u001b[0m \u001b[1;36m0\u001b[0m\u001b[1;33m\u001b[0m\u001b[1;33m\u001b[0m\u001b[0m\n",
      "\u001b[1;31mTypeError\u001b[0m: list indices must be integers or slices, not tuple"
     ]
    }
   ],
   "source": [
    "alpha = [['a','t','h','g','e','f']['s','e','c','a','t','h']]\n",
    "word = [['hat','get','fat','gate','hate']['seat','hat','set','cat','the','cheat','eat']]\n",
    "chance = 3 \n",
    "list = 0\n",
    "score = 0\n",
    "print(\"START GAME\")\n",
    "print(\"CREATE WORDS\")\n",
    "print(alpha[list])\n",
    "wcount = 1\n",
    "while list < 3:\n",
    "    while wcount == 1 or wcount <= 4:\n",
    "        \n",
    "        get = input(\"Guess the words :\")\n",
    "        for w in word[list]:\n",
    "            if get == word:\n",
    "                score = score +1\n",
    "                break\n",
    "        wcount = wcount +1\n",
    "    print(\"you have gussed its correct\")\n",
    "    list = list+1\n",
    "    user = input(\"Do u want to continue:yes/no\")\n",
    "\n",
    "else:\n",
    "    exit"
   ]
  },
  {
   "cell_type": "code",
   "execution_count": 2,
   "metadata": {},
   "outputs": [
    {
     "name": "stdout",
     "output_type": "stream",
     "text": [
      "START GAME\n",
      "CREATE WORDS\n"
     ]
    },
    {
     "ename": "TypeError",
     "evalue": "list indices must be integers or slices, not type",
     "output_type": "error",
     "traceback": [
      "\u001b[1;31m---------------------------------------------------------------------------\u001b[0m",
      "\u001b[1;31mTypeError\u001b[0m                                 Traceback (most recent call last)",
      "\u001b[1;32m<ipython-input-2-a1029545dc89>\u001b[0m in \u001b[0;36m<module>\u001b[1;34m\u001b[0m\n\u001b[0;32m     14\u001b[0m \u001b[1;32mfor\u001b[0m \u001b[0m_\u001b[0m \u001b[1;32min\u001b[0m \u001b[0mrange\u001b[0m\u001b[1;33m(\u001b[0m\u001b[0mchances\u001b[0m\u001b[1;33m)\u001b[0m\u001b[1;33m:\u001b[0m\u001b[1;33m\u001b[0m\u001b[1;33m\u001b[0m\u001b[0m\n\u001b[0;32m     15\u001b[0m     \u001b[0mcurrent_alpha\u001b[0m \u001b[1;33m=\u001b[0m \u001b[0mrandom\u001b[0m\u001b[1;33m.\u001b[0m\u001b[0mchoice\u001b[0m\u001b[1;33m(\u001b[0m\u001b[0malpha\u001b[0m\u001b[1;33m)\u001b[0m\u001b[1;33m\u001b[0m\u001b[1;33m\u001b[0m\u001b[0m\n\u001b[1;32m---> 16\u001b[1;33m     \u001b[0mvalid_words\u001b[0m \u001b[1;33m=\u001b[0m \u001b[0mgenerate_words\u001b[0m\u001b[1;33m(\u001b[0m\u001b[0mcurrent_alpha\u001b[0m\u001b[1;33m,\u001b[0m \u001b[0mwords\u001b[0m\u001b[1;33m[\u001b[0m\u001b[0mlist\u001b[0m\u001b[1;33m]\u001b[0m\u001b[1;33m)\u001b[0m\u001b[1;33m\u001b[0m\u001b[1;33m\u001b[0m\u001b[0m\n\u001b[0m\u001b[0;32m     17\u001b[0m \u001b[1;33m\u001b[0m\u001b[0m\n\u001b[0;32m     18\u001b[0m     \u001b[0mprint\u001b[0m\u001b[1;33m(\u001b[0m\u001b[1;34mf\"Current Alphabet: {current_alpha}\"\u001b[0m\u001b[1;33m)\u001b[0m\u001b[1;33m\u001b[0m\u001b[1;33m\u001b[0m\u001b[0m\n",
      "\u001b[1;31mTypeError\u001b[0m: list indices must be integers or slices, not type"
     ]
    }
   ],
   "source": [
    "import random\n",
    "\n",
    "alpha = [['a', 't', 'h', 'g', 'e', 'f'], ['s', 'e', 'c', 'a', 't', 'h']]\n",
    "words = [['hat', 'get', 'fat', 'gate', 'hate'], ['seat', 'hat', 'set', 'cat', 'the', 'cheat', 'eat']]\n",
    "chances = 3\n",
    "user_score = 0\n",
    "\n",
    "print(\"START GAME\")\n",
    "print(\"CREATE WORDS\")\n",
    "\n",
    "def generate_words(alphabet, word_list):\n",
    "    return [word for word in word_list if all(char in alphabet for char in word)]\n",
    "\n",
    "for _ in range(chances):\n",
    "    current_alpha = random.choice(alpha)\n",
    "    valid_words = generate_words(current_alpha, words[list])\n",
    "    \n",
    "    print(f\"Current Alphabet: {current_alpha}\")\n",
    "    print(f\"Valid Words: {valid_words}\")\n",
    "    \n",
    "    user_input = input(\"Enter an alphabet: \").lower()\n",
    "    \n",
    "    if user_input in current_alpha:\n",
    "        user_score += 1\n",
    "        print(\"Valid alphabet! +1 point.\")\n",
    "    else:\n",
    "        print(\"Invalid alphabet. Try again.\")\n",
    "\n",
    "print(\"Game Over\")\n",
    "print(f\"Your final score: {user_score}\")\n"
   ]
  },
  {
   "cell_type": "code",
   "execution_count": 3,
   "metadata": {},
   "outputs": [
    {
     "name": "stdout",
     "output_type": "stream",
     "text": [
      "START GAME\n",
      "CREATE WORDS\n",
      "Current Alphabet: ['s', 'e', 'c', 'a', 't', 'h']\n",
      "Valid Words: ['hat', 'hate']\n",
      "Enter a word: hat\n",
      "Valid word! +1 point.\n",
      "Current Alphabet: ['s', 'e', 'c', 'a', 't', 'h']\n",
      "Valid Words: ['hat', 'hate']\n",
      "Enter a word: hate\n",
      "Valid word! +1 point.\n",
      "Current Alphabet: ['a', 't', 'h', 'g', 'e', 'f']\n",
      "Valid Words: ['hat', 'get', 'fat', 'gate', 'hate']\n",
      "Enter a word: fat\n",
      "Valid word! +1 point.\n",
      "Game Over\n",
      "Your final score: 3\n"
     ]
    }
   ],
   "source": [
    "import random\n",
    "\n",
    "alpha = [['a', 't', 'h', 'g', 'e', 'f'], ['s', 'e', 'c', 'a', 't', 'h']]\n",
    "words = [['hat', 'get', 'fat', 'gate', 'hate'], ['seat', 'hat', 'set', 'cat', 'the', 'cheat', 'eat']]\n",
    "chance = 3\n",
    "user_score = 0\n",
    "\n",
    "print(\"START GAME\")\n",
    "print(\"CREATE WORDS\")\n",
    "\n",
    "def generate_words(alphabet, word_list):\n",
    "    return [word for word in word_list if all(char in alphabet for char in word)]\n",
    "\n",
    "for _ in range(chance):\n",
    "    current_alpha = random.choice(alpha)\n",
    "    valid_words = generate_words(current_alpha, words[0])\n",
    "    \n",
    "    print(f\"Current Alphabet: {current_alpha}\")\n",
    "    print(f\"Valid Words: {valid_words}\")\n",
    "    \n",
    "    user_input = input(\"Enter a word: \").lower()\n",
    "    \n",
    "    if user_input in valid_words:\n",
    "        user_score += 1\n",
    "        print(\"Valid word! +1 point.\")\n",
    "    else:\n",
    "        print(\"Invalid word. Try again.\")\n",
    "\n",
    "print(\"Game Over\")\n",
    "print(f\"Your final score: {user_score}\")\n",
    "\n"
   ]
  },
  {
   "cell_type": "code",
   "execution_count": 4,
   "metadata": {},
   "outputs": [
    {
     "name": "stdout",
     "output_type": "stream",
     "text": [
      "START GAME\n",
      "CREATE WORDS\n",
      "Current Alphabet: ['s', 'e', 'c', 'a', 't', 'h']\n",
      "Valid Words: ['hat', 'hate']\n",
      "Enter a word: hate\n",
      "Valid word! +1 point.\n",
      "Current Alphabet: ['s', 'e', 'c', 'a', 't', 'h']\n",
      "Valid Words: ['hat', 'hate']\n",
      "Enter a word: hat\n",
      "Valid word! +1 point.\n",
      "Current Alphabet: ['a', 't', 'h', 'g', 'e', 'f']\n",
      "Valid Words: ['hat', 'get', 'fat', 'gate', 'hate']\n",
      "Enter a word: hgc\n",
      "Invalid word. Try again.\n",
      "Game Over\n",
      "Your final score: 2\n"
     ]
    }
   ],
   "source": [
    "import random\n",
    "\n",
    "alpha = [['a', 't', 'h', 'g', 'e', 'f'], ['s', 'e', 'c', 'a', 't', 'h']]\n",
    "words1 = [['hat', 'get', 'fat', 'gate', 'hate'], ['seat', 'hat', 'set', 'cat', 'the', 'cheat', 'eat']]\n",
    "chance = 3\n",
    "user_score = 0\n",
    "\n",
    "print(\"START GAME\")\n",
    "print(\"CREATE WORDS\")\n",
    "\n",
    "def generate_words(alphabet, word_list):\n",
    "    return [word for word in word_list if all(char in alphabet for char in word)]\n",
    "\n",
    "for _ in range(chance):\n",
    "    current_alpha = random.choice(alpha)\n",
    "    word_list_index = 0  # Choose which word list to use from the 'words' list\n",
    "    valid_words = generate_words(current_alpha, words[word_list_index])\n",
    "    \n",
    "    print(f\"Current Alphabet: {current_alpha}\")\n",
    "    print(f\"Valid Words: {valid_words}\")\n",
    "    \n",
    "    user_input = input(\"Enter a word: \").lower()\n",
    "    \n",
    "    if user_input in valid_words:\n",
    "        user_score += 1\n",
    "        print(\"Valid word! +1 point.\")\n",
    "    else:\n",
    "        print(\"Invalid word. Try again.\")\n",
    "\n",
    "print(\"Game Over\")\n",
    "print(f\"Your final score: {user_score}\")\n"
   ]
  },
  {
   "cell_type": "code",
   "execution_count": null,
   "metadata": {},
   "outputs": [],
   "source": [
    "alpha1 = ['a', 't', 'h', 'g', 'e', 'f']\n",
    "alpha2 = ['s', 'e', 'c', 'a', 't', 'h']\n",
    "word1 = ['hat', 'get', 'fat', 'gate', 'hate']\n",
    "word2 = ['seat', 'hat', 'set', 'cat', 'the', 'cheat', 'eat']\n",
    "chance = 3\n",
    "user_score = 0\n",
    "\n",
    "print(\"START GAME\")\n",
    "print(\"CREATE WORDS\")\n"
   ]
  },
  {
   "cell_type": "code",
   "execution_count": null,
   "metadata": {},
   "outputs": [],
   "source": [
    "alpha = [['a','t','h','g','e','f']['s','e','c','a','t','h']]\n",
    "word = [['hat','get','fat','gate','hate']['seat','hat','set','cat','the','cheat','eat']]\n",
    "chance = 3 \n",
    "list = 0\n",
    "score = 0\n",
    "print(\"START GAME\")\n",
    "print(\"CREATE WORDS\")\n",
    "print(alpha[list])\n",
    "wcount = 1\n",
    "while alpha < 3:\n",
    "    while wcount == 1 or wcount <= 4:\n",
    "        \n",
    "        get = input(\"Guess the words :\")\n",
    "        for w in word[alpha]:\n",
    "            if get == word:\n",
    "                score = score +1\n",
    "                break\n",
    "        wcount = wcount +1\n",
    "    print(\"you have gussed its correct\")\n",
    "    alpha = alpha+1\n",
    "    user = input(\"Do u want to continue:yes/no\")\n",
    "\n",
    "else:\n",
    "    exit"
   ]
  }
 ],
 "metadata": {
  "kernelspec": {
   "display_name": "Python 3 (ipykernel)",
   "language": "python",
   "name": "python3"
  },
  "language_info": {
   "codemirror_mode": {
    "name": "ipython",
    "version": 3
   },
   "file_extension": ".py",
   "mimetype": "text/x-python",
   "name": "python",
   "nbconvert_exporter": "python",
   "pygments_lexer": "ipython3",
   "version": "3.11.4"
  }
 },
 "nbformat": 4,
 "nbformat_minor": 4
}
