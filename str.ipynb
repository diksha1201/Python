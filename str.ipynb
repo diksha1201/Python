{
 "cells": [
  {
   "cell_type": "code",
   "execution_count": 3,
   "metadata": {},
   "outputs": [
    {
     "name": "stdout",
     "output_type": "stream",
     "text": [
      "there are13 no of words\n"
     ]
    }
   ],
   "source": [
    "str = \"hello how are you ? where were you ? I was missng you ?\"\n",
    "count =0\n",
    "for i in str:\n",
    "    if i==\" \":\n",
    "        count=count+1\n",
    "    else:\n",
    "        continue\n",
    "print(f\"there are{count} no of words\")\n"
   ]
  },
  {
   "cell_type": "code",
   "execution_count": 4,
   "metadata": {},
   "outputs": [
    {
     "name": "stdout",
     "output_type": "stream",
     "text": [
      "0\n",
      "1\n",
      "2\n",
      "3\n",
      "4\n",
      "5\n",
      "6\n",
      "end\n"
     ]
    }
   ],
   "source": [
    "i=0\n",
    "while i<=6:\n",
    "    print(i)\n",
    "    i=i+1\n",
    "else:\n",
    "    print(\"end\")"
   ]
  },
  {
   "cell_type": "code",
   "execution_count": 6,
   "metadata": {},
   "outputs": [
    {
     "name": "stdout",
     "output_type": "stream",
     "text": [
      "there are3 no of words\n"
     ]
    }
   ],
   "source": [
    "str = \"hello how are you ? where were you ? I was missng you ?\"\n",
    "count =0\n",
    "for i in str:\n",
    "    if i==\"y\":\n",
    "        count=count+1\n",
    "    else:\n",
    "        continue\n",
    "print(f\"there are{count} no of words\")\n"
   ]
  },
  {
   "cell_type": "code",
   "execution_count": 11,
   "metadata": {},
   "outputs": [
    {
     "name": "stdout",
     "output_type": "stream",
     "text": [
      "h\n",
      "e\n",
      "l\n",
      "l\n"
     ]
    }
   ],
   "source": [
    "str = \"hello how are you ? where were you ? I was missng you ?\"\n",
    "for i in str:\n",
    "    if i==\"o\":\n",
    "        break\n",
    "    else:\n",
    "        print(i)"
   ]
  },
  {
   "cell_type": "code",
   "execution_count": 9,
   "metadata": {},
   "outputs": [
    {
     "name": "stdout",
     "output_type": "stream",
     "text": [
      "h\n",
      "l\n",
      "l\n",
      "o\n",
      " \n",
      "h\n",
      "o\n",
      "w\n",
      " \n",
      "a\n",
      "r\n",
      " \n",
      "y\n",
      "o\n",
      "u\n",
      " \n",
      "?\n",
      " \n",
      "w\n",
      "h\n",
      "r\n",
      " \n",
      "w\n",
      "r\n",
      " \n",
      "y\n",
      "o\n",
      "u\n",
      " \n",
      "?\n",
      " \n",
      "I\n",
      " \n",
      "w\n",
      "a\n",
      "s\n",
      " \n",
      "m\n",
      "i\n",
      "s\n",
      "s\n",
      "n\n",
      "g\n",
      " \n",
      "y\n",
      "o\n",
      "u\n",
      " \n",
      "?\n"
     ]
    }
   ],
   "source": [
    "str = \"hello how are you ? where were you ? I was missng you ?\"\n",
    "for i in str:\n",
    "    if i==\"e\":\n",
    "        pass\n",
    "    else:\n",
    "        print(i)"
   ]
  },
  {
   "cell_type": "code",
   "execution_count": 20,
   "metadata": {},
   "outputs": [
    {
     "ename": "SyntaxError",
     "evalue": "invalid syntax (<ipython-input-20-1e5a4728af1e>, line 5)",
     "output_type": "error",
     "traceback": [
      "\u001b[1;36m  File \u001b[1;32m\"<ipython-input-20-1e5a4728af1e>\"\u001b[1;36m, line \u001b[1;32m5\u001b[0m\n\u001b[1;33m    if i+1 =\"o\" && i+2 =\"u\":\u001b[0m\n\u001b[1;37m           ^\u001b[0m\n\u001b[1;31mSyntaxError\u001b[0m\u001b[1;31m:\u001b[0m invalid syntax\n"
     ]
    }
   ],
   "source": [
    "str1 = \"hello how are you ? where were you ? I was missng you ?\"\n",
    "count =0\n",
    "for i in str:\n",
    "    if i==\"y\":\n",
    "        if i+1 =\"o\" && i+2 =\"u\":\n",
    "        count=count+1\n",
    "    else:\n",
    "        continue\n",
    "print(f\"there are{count} no of words\")"
   ]
  },
  {
   "cell_type": "code",
   "execution_count": 1,
   "metadata": {},
   "outputs": [
    {
     "ename": "SyntaxError",
     "evalue": "cannot assign to literal (2669372350.py, line 2)",
     "output_type": "error",
     "traceback": [
      "\u001b[1;36m  Cell \u001b[1;32mIn[1], line 2\u001b[1;36m\u001b[0m\n\u001b[1;33m    for \"you\" in str1:\u001b[0m\n\u001b[1;37m        ^\u001b[0m\n\u001b[1;31mSyntaxError\u001b[0m\u001b[1;31m:\u001b[0m cannot assign to literal\n"
     ]
    }
   ],
   "source": [
    "str1 = \"hello how are you ? where were you ? I was missng you ?\"\n",
    "for \"you\" in str1:\n",
    "    count=count+1\n",
    "print(f\"there are{count} no of words\")\n",
    "for \"are\" not in str1:\n",
    "    print(f\"there are{count} no of words\")"
   ]
  },
  {
   "cell_type": "code",
   "execution_count": null,
   "metadata": {},
   "outputs": [],
   "source": []
  },
  {
   "cell_type": "code",
   "execution_count": null,
   "metadata": {},
   "outputs": [],
   "source": []
  }
 ],
 "metadata": {
  "kernelspec": {
   "display_name": "Python 3 (ipykernel)",
   "language": "python",
   "name": "python3"
  },
  "language_info": {
   "codemirror_mode": {
    "name": "ipython",
    "version": 3
   },
   "file_extension": ".py",
   "mimetype": "text/x-python",
   "name": "python",
   "nbconvert_exporter": "python",
   "pygments_lexer": "ipython3",
   "version": "3.11.4"
  }
 },
 "nbformat": 4,
 "nbformat_minor": 4
}
